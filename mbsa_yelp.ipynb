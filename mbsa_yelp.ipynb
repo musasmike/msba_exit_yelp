{
 "cells": [
  {
   "metadata": {},
   "cell_type": "markdown",
   "source": "# **Yelp Ratings**",
   "id": "db44c7f7e38a6e77"
  },
  {
   "metadata": {
    "ExecuteTime": {
     "end_time": "2024-08-07T22:48:53.296482Z",
     "start_time": "2024-08-07T22:48:53.291420Z"
    }
   },
   "cell_type": "code",
   "source": [
    "# Import packages\n",
    "import pandas as pd\n",
    "import json\n",
    "import numpy as np\n",
    "import matplotlib.pyplot as plt\n",
    "import seaborn as sns"
   ],
   "id": "4339b960d1ba61b5",
   "outputs": [],
   "execution_count": 1
  },
  {
   "metadata": {
    "ExecuteTime": {
     "end_time": "2024-08-07T22:51:08.537149Z",
     "start_time": "2024-08-07T22:51:06.119083Z"
    }
   },
   "cell_type": "code",
   "source": [
    "# Read the data\n",
    "df = pd.read_csv(\"data/MSBA Exit_Yelp.csv\")\n",
    "\n",
    "# Preview the data\n",
    "df.head()"
   ],
   "id": "862620712c33c643",
   "outputs": [
    {
     "data": {
      "text/plain": [
       "                                          attributes  business_id  \\\n",
       "0  {'ByAppointmentOnly': 'True', 'BusinessAccepts...       922049   \n",
       "1  {'WiFi': \"u'free'\", 'RestaurantsGoodForGroups'...       492976   \n",
       "2  {'BusinessAcceptsCreditCards': 'True', 'ByAppo...       125987   \n",
       "3                      {'ByAppointmentOnly': 'True'}       445542   \n",
       "4  {'ByAppointmentOnly': 'True', 'BusinessAccepts...       225939   \n",
       "\n",
       "                                          categories      city  \\\n",
       "0  Home Organization, Interior Design, Profession...  Portland   \n",
       "1                               Burgers, Restaurants  Portland   \n",
       "2          Home Services, Tree Services, Landscaping    Austin   \n",
       "3   Chiropractors, Massage Therapy, Health & Medical  Portland   \n",
       "4             Apartments, Real Estate, Home Services   Orlando   \n",
       "\n",
       "                                               hours  is_open   latitude  \\\n",
       "0  {'Monday': '0:0-0:0', 'Tuesday': '9:0-17:0', '...        1  45.551736   \n",
       "1  {'Monday': '11:0-20:0', 'Tuesday': '11:0-21:0'...        1  45.519562   \n",
       "2  {'Monday': '8:0-18:0', 'Tuesday': '8:0-18:0', ...        1  30.296603   \n",
       "3                                                NaN        0  45.520668   \n",
       "4  {'Monday': '9:0-18:0', 'Tuesday': '10:0-18:0',...        0  28.520020   \n",
       "\n",
       "    longitude postal_code  review_count state  stars  \n",
       "0 -122.552248       97220            11    OR    5.0  \n",
       "1 -122.675040       97204           790    OR    4.0  \n",
       "2  -97.970185       78738             6    TX    4.0  \n",
       "3 -122.672014       97204            15    OR    5.0  \n",
       "4  -81.457009       32811             7    FL    4.5  "
      ],
      "text/html": [
       "<div>\n",
       "<style scoped>\n",
       "    .dataframe tbody tr th:only-of-type {\n",
       "        vertical-align: middle;\n",
       "    }\n",
       "\n",
       "    .dataframe tbody tr th {\n",
       "        vertical-align: top;\n",
       "    }\n",
       "\n",
       "    .dataframe thead th {\n",
       "        text-align: right;\n",
       "    }\n",
       "</style>\n",
       "<table border=\"1\" class=\"dataframe\">\n",
       "  <thead>\n",
       "    <tr style=\"text-align: right;\">\n",
       "      <th></th>\n",
       "      <th>attributes</th>\n",
       "      <th>business_id</th>\n",
       "      <th>categories</th>\n",
       "      <th>city</th>\n",
       "      <th>hours</th>\n",
       "      <th>is_open</th>\n",
       "      <th>latitude</th>\n",
       "      <th>longitude</th>\n",
       "      <th>postal_code</th>\n",
       "      <th>review_count</th>\n",
       "      <th>state</th>\n",
       "      <th>stars</th>\n",
       "    </tr>\n",
       "  </thead>\n",
       "  <tbody>\n",
       "    <tr>\n",
       "      <th>0</th>\n",
       "      <td>{'ByAppointmentOnly': 'True', 'BusinessAccepts...</td>\n",
       "      <td>922049</td>\n",
       "      <td>Home Organization, Interior Design, Profession...</td>\n",
       "      <td>Portland</td>\n",
       "      <td>{'Monday': '0:0-0:0', 'Tuesday': '9:0-17:0', '...</td>\n",
       "      <td>1</td>\n",
       "      <td>45.551736</td>\n",
       "      <td>-122.552248</td>\n",
       "      <td>97220</td>\n",
       "      <td>11</td>\n",
       "      <td>OR</td>\n",
       "      <td>5.0</td>\n",
       "    </tr>\n",
       "    <tr>\n",
       "      <th>1</th>\n",
       "      <td>{'WiFi': \"u'free'\", 'RestaurantsGoodForGroups'...</td>\n",
       "      <td>492976</td>\n",
       "      <td>Burgers, Restaurants</td>\n",
       "      <td>Portland</td>\n",
       "      <td>{'Monday': '11:0-20:0', 'Tuesday': '11:0-21:0'...</td>\n",
       "      <td>1</td>\n",
       "      <td>45.519562</td>\n",
       "      <td>-122.675040</td>\n",
       "      <td>97204</td>\n",
       "      <td>790</td>\n",
       "      <td>OR</td>\n",
       "      <td>4.0</td>\n",
       "    </tr>\n",
       "    <tr>\n",
       "      <th>2</th>\n",
       "      <td>{'BusinessAcceptsCreditCards': 'True', 'ByAppo...</td>\n",
       "      <td>125987</td>\n",
       "      <td>Home Services, Tree Services, Landscaping</td>\n",
       "      <td>Austin</td>\n",
       "      <td>{'Monday': '8:0-18:0', 'Tuesday': '8:0-18:0', ...</td>\n",
       "      <td>1</td>\n",
       "      <td>30.296603</td>\n",
       "      <td>-97.970185</td>\n",
       "      <td>78738</td>\n",
       "      <td>6</td>\n",
       "      <td>TX</td>\n",
       "      <td>4.0</td>\n",
       "    </tr>\n",
       "    <tr>\n",
       "      <th>3</th>\n",
       "      <td>{'ByAppointmentOnly': 'True'}</td>\n",
       "      <td>445542</td>\n",
       "      <td>Chiropractors, Massage Therapy, Health &amp; Medical</td>\n",
       "      <td>Portland</td>\n",
       "      <td>NaN</td>\n",
       "      <td>0</td>\n",
       "      <td>45.520668</td>\n",
       "      <td>-122.672014</td>\n",
       "      <td>97204</td>\n",
       "      <td>15</td>\n",
       "      <td>OR</td>\n",
       "      <td>5.0</td>\n",
       "    </tr>\n",
       "    <tr>\n",
       "      <th>4</th>\n",
       "      <td>{'ByAppointmentOnly': 'True', 'BusinessAccepts...</td>\n",
       "      <td>225939</td>\n",
       "      <td>Apartments, Real Estate, Home Services</td>\n",
       "      <td>Orlando</td>\n",
       "      <td>{'Monday': '9:0-18:0', 'Tuesday': '10:0-18:0',...</td>\n",
       "      <td>0</td>\n",
       "      <td>28.520020</td>\n",
       "      <td>-81.457009</td>\n",
       "      <td>32811</td>\n",
       "      <td>7</td>\n",
       "      <td>FL</td>\n",
       "      <td>4.5</td>\n",
       "    </tr>\n",
       "  </tbody>\n",
       "</table>\n",
       "</div>"
      ]
     },
     "execution_count": 2,
     "metadata": {},
     "output_type": "execute_result"
    }
   ],
   "execution_count": 2
  },
  {
   "metadata": {
    "ExecuteTime": {
     "end_time": "2024-08-07T23:30:49.007577Z",
     "start_time": "2024-08-07T23:30:48.976374Z"
    }
   },
   "cell_type": "code",
   "source": "len(df.state.unique())",
   "id": "874d149ca0bebd1",
   "outputs": [
    {
     "data": {
      "text/plain": [
       "25"
      ]
     },
     "execution_count": 6,
     "metadata": {},
     "output_type": "execute_result"
    }
   ],
   "execution_count": 6
  },
  {
   "metadata": {
    "ExecuteTime": {
     "end_time": "2024-08-05T23:22:38.214965Z",
     "start_time": "2024-08-05T23:22:38.205684Z"
    }
   },
   "cell_type": "code",
   "source": "df.shape",
   "id": "246b44375186e6c2",
   "outputs": [
    {
     "data": {
      "text/plain": [
       "(120437, 12)"
      ]
     },
     "execution_count": 3,
     "metadata": {},
     "output_type": "execute_result"
    }
   ],
   "execution_count": 3
  },
  {
   "metadata": {
    "ExecuteTime": {
     "end_time": "2024-08-05T23:22:51.216060Z",
     "start_time": "2024-08-05T23:22:51.119713Z"
    }
   },
   "cell_type": "code",
   "source": "df.info()",
   "id": "941479cc5d3ba35b",
   "outputs": [
    {
     "name": "stdout",
     "output_type": "stream",
     "text": [
      "<class 'pandas.core.frame.DataFrame'>\n",
      "RangeIndex: 120437 entries, 0 to 120436\n",
      "Data columns (total 12 columns):\n",
      " #   Column        Non-Null Count   Dtype  \n",
      "---  ------        --------------   -----  \n",
      " 0   attributes    109193 non-null  object \n",
      " 1   business_id   120437 non-null  int64  \n",
      " 2   categories    120351 non-null  object \n",
      " 3   city          120437 non-null  object \n",
      " 4   hours         99879 non-null   object \n",
      " 5   is_open       120437 non-null  int64  \n",
      " 6   latitude      120437 non-null  float64\n",
      " 7   longitude     120437 non-null  float64\n",
      " 8   postal_code   120355 non-null  object \n",
      " 9   review_count  120437 non-null  int64  \n",
      " 10  state         120437 non-null  object \n",
      " 11  stars         120437 non-null  float64\n",
      "dtypes: float64(3), int64(3), object(6)\n",
      "memory usage: 11.0+ MB\n"
     ]
    }
   ],
   "execution_count": 4
  },
  {
   "metadata": {
    "ExecuteTime": {
     "end_time": "2024-08-05T23:25:00.684717Z",
     "start_time": "2024-08-05T23:25:00.660880Z"
    }
   },
   "cell_type": "code",
   "source": "df['is_open'].unique()",
   "id": "9546322dc3be4426",
   "outputs": [
    {
     "data": {
      "text/plain": [
       "array([1, 0], dtype=int64)"
      ]
     },
     "execution_count": 5,
     "metadata": {},
     "output_type": "execute_result"
    }
   ],
   "execution_count": 5
  },
  {
   "metadata": {
    "ExecuteTime": {
     "end_time": "2024-08-06T00:20:05.111550Z",
     "start_time": "2024-08-06T00:20:05.087657Z"
    }
   },
   "cell_type": "code",
   "source": "df['review_count'].min()",
   "id": "2c627aecc32a10ab",
   "outputs": [
    {
     "data": {
      "text/plain": [
       "5"
      ]
     },
     "execution_count": 9,
     "metadata": {},
     "output_type": "execute_result"
    }
   ],
   "execution_count": 9
  },
  {
   "metadata": {
    "ExecuteTime": {
     "end_time": "2024-08-06T00:22:05.220913Z",
     "start_time": "2024-08-06T00:22:05.062262Z"
    }
   },
   "cell_type": "code",
   "source": "sum(df['review_count'] == 5)",
   "id": "f781c784e5495b",
   "outputs": [
    {
     "data": {
      "text/plain": [
       "10477"
      ]
     },
     "execution_count": 14,
     "metadata": {},
     "output_type": "execute_result"
    }
   ],
   "execution_count": 14
  },
  {
   "metadata": {
    "ExecuteTime": {
     "end_time": "2024-08-06T00:23:37.053473Z",
     "start_time": "2024-08-06T00:23:37.034453Z"
    }
   },
   "cell_type": "code",
   "source": "df.loc[df['review_count'] == 5, 'stars'].mean()",
   "id": "e8133b1270e3e342",
   "outputs": [
    {
     "data": {
      "text/plain": [
       "3.7079793834112817"
      ]
     },
     "execution_count": 15,
     "metadata": {},
     "output_type": "execute_result"
    }
   ],
   "execution_count": 15
  },
  {
   "metadata": {},
   "cell_type": "code",
   "outputs": [],
   "execution_count": null,
   "source": "",
   "id": "c7d41eab453b890a"
  },
  {
   "metadata": {},
   "cell_type": "markdown",
   "source": "## Data Cleaning",
   "id": "a30093aabc960bcc"
  },
  {
   "metadata": {},
   "cell_type": "markdown",
   "source": "",
   "id": "c1b5e2294e0cebfb"
  },
  {
   "cell_type": "code",
   "id": "initial_id",
   "metadata": {
    "collapsed": true,
    "ExecuteTime": {
     "end_time": "2024-08-05T23:33:13.518659Z",
     "start_time": "2024-08-05T23:33:13.438337Z"
    }
   },
   "source": "df.isnull().sum()",
   "outputs": [
    {
     "data": {
      "text/plain": [
       "attributes      11244\n",
       "business_id         0\n",
       "categories         86\n",
       "city                0\n",
       "hours           20558\n",
       "is_open             0\n",
       "latitude            0\n",
       "longitude           0\n",
       "postal_code        82\n",
       "review_count        0\n",
       "state               0\n",
       "stars               0\n",
       "dtype: int64"
      ]
     },
     "execution_count": 6,
     "metadata": {},
     "output_type": "execute_result"
    }
   ],
   "execution_count": 6
  },
  {
   "metadata": {},
   "cell_type": "code",
   "outputs": [],
   "execution_count": null,
   "source": [
    "# Function to evaluate closing status based on hours\n",
    "def evaluate_closing_status(hours):\n",
    "    if pd.isnull(hours):\n",
    "        return \"unknown\"\n",
    "\n",
    "    try:\n",
    "        hours_dict = json.loads(hours.replace(\"'\", '\"'))\n",
    "        closed_days = [day for day, time in hours_dict.items() if time == '0:0-0:0']\n",
    "        \n",
    "        if 'Sunday' in closed_days and len(closed_days) == 1:\n",
    "            return \"closed on sunday\"\n",
    "        elif 'Saturday' in closed_days and len(closed_days) == 1:\n",
    "            return \"closed on saturday\"\n",
    "        elif 'Saturday' in closed_days and 'Sunday' in closed_days:\n",
    "            return \"closed on week-ends\"\n",
    "        else:\n",
    "            week_days_closed = [day for day in closed_days if day in ['Monday', 'Tuesday', 'Wednesday', 'Thursday', 'Friday']]\n",
    "            if week_days_closed:\n",
    "                return f\"closed on {len(week_days_closed)} week day(s)\"\n",
    "            return \"open all week\"\n",
    "    except:\n",
    "        return \"unknown\"\n",
    "\n",
    "# Apply the function to the hours column\n",
    "df['closing_status'] = df['hours'].apply(evaluate_closing_status)\n",
    "\n",
    "# Display the resulting dataframe\n",
    "df[['business_id', 'hours', 'closing_status']].head()"
   ],
   "id": "e2bc35148bdc3096"
  },
  {
   "metadata": {},
   "cell_type": "code",
   "outputs": [],
   "execution_count": null,
   "source": "",
   "id": "449ab6b32f9eb6a9"
  },
  {
   "metadata": {},
   "cell_type": "code",
   "outputs": [],
   "execution_count": null,
   "source": "",
   "id": "aaae408fa8b49c65"
  },
  {
   "metadata": {},
   "cell_type": "code",
   "outputs": [],
   "execution_count": null,
   "source": "",
   "id": "be7ee8e95502a9e7"
  },
  {
   "metadata": {},
   "cell_type": "markdown",
   "source": "## Exploratory Data",
   "id": "ded15a9ab5c5a004"
  },
  {
   "metadata": {
    "ExecuteTime": {
     "end_time": "2024-08-06T00:08:31.176836Z",
     "start_time": "2024-08-06T00:08:30.470390Z"
    }
   },
   "cell_type": "code",
   "source": [
    "sns.scatterplot(df, x=\"stars\", y=\"review_count\")\n",
    "\n",
    "plt.show()"
   ],
   "id": "8e16ed56cf481b0e",
   "outputs": [
    {
     "data": {
      "text/plain": [
       "<Figure size 640x480 with 1 Axes>"
      ],
      "image/png": "[encoded data removed]"
     },
     "metadata": {},
     "output_type": "display_data"
    }
   ],
   "execution_count": 8
  },
  {
   "metadata": {},
   "cell_type": "code",
   "outputs": [],
   "execution_count": null,
   "source": "    ",
   "id": "3de3a95533e16a8c"
  },
  {
   "metadata": {},
   "cell_type": "markdown",
   "source": "## **Model Development**",
   "id": "51ad1aaf9000e68e"
  },
  {
   "metadata": {
    "ExecuteTime": {
     "end_time": "2024-08-07T23:22:02.701488Z",
     "start_time": "2024-08-07T23:22:02.636881Z"
    }
   },
   "cell_type": "code",
   "source": "df.isnull().sum() / df.shape[0] * 100",
   "id": "61d74899a1c97fea",
   "outputs": [
    {
     "data": {
      "text/plain": [
       "attributes       9.336001\n",
       "business_id      0.000000\n",
       "categories       0.071407\n",
       "city             0.000000\n",
       "hours           17.069505\n",
       "is_open          0.000000\n",
       "latitude         0.000000\n",
       "longitude        0.000000\n",
       "postal_code      0.068085\n",
       "review_count     0.000000\n",
       "state            0.000000\n",
       "stars            0.000000\n",
       "dtype: float64"
      ]
     },
     "execution_count": 4,
     "metadata": {},
     "output_type": "execute_result"
    }
   ],
   "execution_count": 4
  },
  {
   "metadata": {
    "ExecuteTime": {
     "end_time": "2024-08-07T23:21:56.632403Z",
     "start_time": "2024-08-07T23:21:56.620195Z"
    }
   },
   "cell_type": "code",
   "source": "df.shape[0]",
   "id": "cf650ae8e05d030a",
   "outputs": [
    {
     "data": {
      "text/plain": [
       "120437"
      ]
     },
     "execution_count": 3,
     "metadata": {},
     "output_type": "execute_result"
    }
   ],
   "execution_count": 3
  },
  {
   "metadata": {},
   "cell_type": "code",
   "outputs": [],
   "execution_count": null,
   "source": "",
   "id": "fb0d953440860a54"
  }
 ],
 "metadata": {
  "kernelspec": {
   "display_name": "Python 3",
   "language": "python",
   "name": "python3"
  },
  "language_info": {
   "codemirror_mode": {
    "name": "ipython",
    "version": 2
   },
   "file_extension": ".py",
   "mimetype": "text/x-python",
   "name": "python",
   "nbconvert_exporter": "python",
   "pygments_lexer": "ipython2",
   "version": "2.7.6"
  }
 },
 "nbformat": 4,
 "nbformat_minor": 5
}
